{
 "cells": [
  {
   "cell_type": "markdown",
   "metadata": {},
   "source": [
    "# Introduction to Text as Data\n",
    "\n",
    "## UNM Workshop, April 9, 2018\n",
    "\n",
    "Alex Hanna, PhD ([Email](alex.hanna@utoronto.ca) | [GitHub](https://github.com/alexhanna) | [Web](alex-hanna.com))"
   ]
  },
  {
   "cell_type": "markdown",
   "metadata": {},
   "source": [
    "### Learning Objectives\n",
    "\n",
    "In today's workshop, we're going to combine the [tidyverse workflow](https://cran.r-project.org/web/packages/tidyverse/vignettes/manifesto.html) with a set of common TAD goals. The tidyverse is a group of R packages created by Hadley Wickham and others which prioritizes a common representation of data and data workflows. You should have gotten at least a little bit of exposure to the tidyverse prior to this workshop. If not, that's still fine. But make sure to look up any particular verbs which aren't familiar. \n",
    "\n",
    "By the end of the workshop, you should be able \n",
    "\n",
    "- understand the data flow of `tidyverse` and `tidytext`\n",
    "- count the most common words from a particular text\n",
    "- compare two texts for most common words\n",
    "- apply a structural topic model to a set of documents using `stm`"
   ]
  },
  {
   "cell_type": "markdown",
   "metadata": {},
   "source": [
    "### What are Text as Data methods?\n",
    "\n",
    "Text as data (TAD) methods are a body of different computational methods for doing analysis of natural language. TAD is drawn from a number of different fields, including computational linguistics, natural language processing, and machine learning.\n",
    "\n",
    "TAD as a body of methods has grown as a means of dealing with large amounts of political and social text. Within sociology, TAD has been largely used as a means of studying culture and institutional logics ([Mohr and Bogdanov 2013](https://www.sciencedirect.com/journal/poetics/vol/41); [Nelson 2017](https://www.sciencedirect.com/journal/poetics/vol/41)). There's been a more widespread adoption of TAD within political science and political methodology more specifically. Earlier interventions into this space focused on ideological scaling ([Laver, Benoit, and Garry 2003](http://faculty.washington.edu/jwilker/tft/Laver.pdf); [Slapin and Proksch 2008](http://citeseerx.ist.psu.edu/viewdoc/download?doi=10.1.1.704.3894&rep=rep1&type=pdf)), i.e. identifying ideological positions of political actors via some kind of written or spoken text. More recent work has focused on classification of text, either based on known categories or unknown categories. Categories can be diverse as political sentiment towards a particular topic or politician ([Hopkins and King 2010](https://gking.harvard.edu/files/words.pdf)) to types of protest speech ([Hanna 2013](http://alex-hanna.com/static/pdf/Hanna.Moby2013.pdf)) to political credit taking ([Grimmer 2013](http://www.cambridge.org/us/academic/subjects/politics-international-relations/american-government-politics-and-policy/representational-style-congress-what-legislators-say-and-why-it-matters#SlBUdh8bBkEg8eGI.97)). \n",
    "\n",
    "There's a separate but related strain of TAD which is less concerned with ideological scaling or categorization and more concerned with event data creation. There's a long history of this methodology, largely pioneered by Phil Schrodt ([2012](https://www.researchgate.net/profile/Philip_Schrodt/publication/254242323_Precedents_Progress_and_Prospects_in_Political_Event_Data/links/543fc29a0cf21227a11b77af/Precedents-Progress-and-Prospects-in-Political-Event-Data.pdf)). This has been a space of intervention for both Dr. Osorio and myself ([Osorio 2016](https://docs.wixstatic.com/ugd/76b255_12d39b7bb99d402687359d72c8a769b9.pdf); [Hanna 2017](https://osf.io/preprints/socarxiv/xuqmv)).\n",
    "\n",
    "The figure below displays directives of how to choose a particular TAD method for your own purposes. The article from which it comes ([Grimmer and Stewart 2013](https://web.stanford.edu/~jgrimmer/tad2.pdf)) provides an excellent set of procedures for performing TAD transparently, replicably, and validly."
   ]
  },
  {
   "cell_type": "markdown",
   "metadata": {},
   "source": [
    "![overview of TAD](img/Grimmer-Stewart-mod.png)"
   ]
  },
  {
   "cell_type": "markdown",
   "metadata": {},
   "source": [
    "#### Exercise 1\n",
    "\n",
    "1. I want to classify Congressional press releases based on a classification scheme I've generated through a literature review. Which method(s) could I consider using?\n",
    "2. I want to generate a set of topics from a bunch of House floor speeches. Which method(s) could I consider using?\n"
   ]
  },
  {
   "cell_type": "markdown",
   "metadata": {},
   "source": [
    "### Using `tidytext`\n",
    "\n",
    "[`tidytext`](https://cran.r-project.org/web/packages/tidytext/vignettes/tidytext.html) is an R package develped by Julia Silge and David Robinson, created for the purpose of integrating text processing methods into the tidyverse. This package allows us to preprocess text in a number of ways, such as converting it to lowercase, removing stopwords, and tokenizing it. It also allows us to convert between different methods for importing into other text packages. We'll get into what this all means below."
   ]
  },
  {
   "cell_type": "markdown",
   "metadata": {},
   "source": [
    "Let's start with single text, in this case, Mary Wollenstonecraft's *A Vindication of the Rights of Woman*. This work is considered a cornerstone of political philosophy in first-wave feminism. Inspired by Laura Nelson's own interrogation of feminist texts, let's start digging into some of its language."
   ]
  },
  {
   "cell_type": "markdown",
   "metadata": {},
   "source": [
    "First let's load the `tidyverse`, `tidytext`, and `gutenbergr`, a package developed by David Robinson which allows us to easily load in books from Project Gutenberg with only an numerical ID or a title."
   ]
  },
  {
   "cell_type": "code",
   "execution_count": 32,
   "metadata": {},
   "outputs": [],
   "source": [
    "library(tidyverse)\n",
    "library(tidytext)\n",
    "library(gutenbergr)"
   ]
  },
  {
   "cell_type": "markdown",
   "metadata": {},
   "source": [
    "Next, we're going to download *Vindication* and convert it to tidy format."
   ]
  },
  {
   "cell_type": "code",
   "execution_count": 33,
   "metadata": {},
   "outputs": [],
   "source": [
    "## A Vindication of the Rights of Woman by Mary Wollstonecraft\n",
    "vindication <- gutenberg_download(3420)"
   ]
  },
  {
   "cell_type": "markdown",
   "metadata": {},
   "source": [
    "Project Gutenberg gives us a text as a set of lines. Next, we're going to use one of the workhorse \"verbs\" of `tidytext` to convert text to lowercase and *tokenize* the text.  \n",
    "\n",
    "On the level of meaning, the lowercase and uppercase of a word generally mean the same thing (sometimes they don't, though. For instance, an SMS saying 'Thank you.' means something different from one saying 'THANK YOU.'). But for the most part, we will want to convert to lowercase.\n",
    "\n",
    "Secondly, we want to split the text by some kind of rule. This is the process of tokenization. For many applications, we mostly want to split by individual words and remove punctuation. \n",
    "\n",
    "`unnest_tokens` takes two mandatory arguments in this format -- the output column name and the input column name. We can call the output column `word`."
   ]
  },
  {
   "cell_type": "code",
   "execution_count": 34,
   "metadata": {},
   "outputs": [],
   "source": [
    "tidy_vindication <- vindication %>% \n",
    "    unnest_tokens(word, text)"
   ]
  },
  {
   "cell_type": "markdown",
   "metadata": {},
   "source": [
    "The output of `unnest_tokens` with no other arguments is a list of each word (or token) in order. For some purposes, we may also want to use conjunctions of multiple words, or n-grams. This allows us to have a little more context for the word. For instance, there's more meaning in \"white house\" than in \"white\" or \"house\" alone. "
   ]
  },
  {
   "cell_type": "code",
   "execution_count": null,
   "metadata": {},
   "outputs": [],
   "source": [
    "vindication %>% unnest_tokens(word, text, token = \"ngrams\", n = 2)"
   ]
  },
  {
   "cell_type": "markdown",
   "metadata": {},
   "source": [
    "This one-per-row format lends itself nicely to other functions of the tidyverse. We can now do things like count unique items, join words with other data, and summarize across useful common variables.\n",
    "\n",
    "The most basic thing we can begin to do is simply count the top words in the text. Using the `count` verb makes this straightforward."
   ]
  },
  {
   "cell_type": "code",
   "execution_count": null,
   "metadata": {},
   "outputs": [],
   "source": [
    "tidy_vindication %>% count(word, sort = TRUE)"
   ]
  },
  {
   "cell_type": "markdown",
   "metadata": {},
   "source": [
    "Nothing too exciting here. Most of the top words are common words, like \"and\" or \"the\". These are what are known as *stop words* and we typically want to remove them from analysis. Luckily, there's another verb we can use to this, called `anti_join`. Simply put, this will join a dataset on common elements and remove those elements from the dataset. In this case, we'll join the list of English stop words with the list of single words, then we'll count them again."
   ]
  },
  {
   "cell_type": "code",
   "execution_count": 35,
   "metadata": {},
   "outputs": [
    {
     "name": "stderr",
     "output_type": "stream",
     "text": [
      "Joining, by = \"word\"\n"
     ]
    }
   ],
   "source": [
    "tidy_vindication <- tidy_vindication %>%\n",
    "    anti_join(stop_words)"
   ]
  },
  {
   "cell_type": "code",
   "execution_count": null,
   "metadata": {},
   "outputs": [],
   "source": [
    "tidy_vindication %>% count(word, sort = TRUE)"
   ]
  },
  {
   "cell_type": "markdown",
   "metadata": {},
   "source": [
    "Now we're getting somewhere. We're getting some important words from this text, such as *women, reason, mind*, and *virtue*.\n",
    "\n",
    "Lastly, let's look if there are some important bigrams (these are n-grams with length 2) which may be important in this text. We can't just use `anti_join` to remove stop words in this instance. We have to first split each bigram with `separate`, check if each word is in the stop word list with `filter`, then count the word pairs. One of the great things about the tidyverse is that we can stop after each verb and check the output to see if it makes sense."
   ]
  },
  {
   "cell_type": "code",
   "execution_count": null,
   "metadata": {},
   "outputs": [],
   "source": [
    "## bigram stopword removal\n",
    "bigrams <- vindication %>%\n",
    "    unnest_tokens(bigram, text, token = \"ngrams\", n = 2) %>%\n",
    "    separate(bigram, c(\"word1\", \"word2\"), sep = \" \") %>%\n",
    "    filter(!word1 %in% stop_words$word) %>%\n",
    "    filter(!word2 %in% stop_words$word) %>%\n",
    "    count(word1, word2, sort = TRUE)"
   ]
  },
  {
   "cell_type": "markdown",
   "metadata": {},
   "source": [
    "In this analysis, we see that Wollstonecraft is using much more universalist language, with *fellow creatures*, *sufficient strength*, and *common sense*.\n",
    "\n",
    "Now it's your turn!"
   ]
  },
  {
   "cell_type": "markdown",
   "metadata": {},
   "source": [
    "#### Exercise 2\n",
    "\n",
    "1. Load another text, *Souls of Black Folks* by W.E.B. DuBois from `gutenbergr`. The ID is 408. Store it in a variable called `souls`.\n",
    "2. Convert `souls` to a list of words using tidytext and remove the stop words. Store this in `tidy_souls`.\n",
    "3. Generate a count of the top words. Now, select only the top 20 words in the counted word list. You'll need to use the tidyverse verb `top_n`, which takes a single argument, the number of rows to display."
   ]
  },
  {
   "cell_type": "markdown",
   "metadata": {},
   "source": [
    "### Comparing texts"
   ]
  },
  {
   "cell_type": "markdown",
   "metadata": {},
   "source": [
    "We rarely want to look at a text in isolation. Typically, we want to compare texts across time (e.g. see the change in the prevalence of a topic), across individual authors (e.g. across politicians), or some other variable of interest. For this reason, it's helpful to know how to compare different texts to each other. \n",
    "\n",
    "We could do this through a number of methods. We could, for instance, look at common words and compare the proportion of each author's text. Laura K. Nelson, for instance, performs this procedure [as a first step](https://github.com/lknelson/computational-grounded-theory) in comparing texts from different feminist organizations."
   ]
  },
  {
   "cell_type": "markdown",
   "metadata": {},
   "source": [
    "Let's load our second first-wave feminist text, *The Subjection of Women* by John Stuart Mill from `gutenbergr` and convert it to tidy format."
   ]
  },
  {
   "cell_type": "code",
   "execution_count": 36,
   "metadata": {},
   "outputs": [],
   "source": [
    "subjection <- gutenberg_download(27083)"
   ]
  },
  {
   "cell_type": "code",
   "execution_count": 37,
   "metadata": {},
   "outputs": [
    {
     "name": "stderr",
     "output_type": "stream",
     "text": [
      "Joining, by = \"word\"\n"
     ]
    }
   ],
   "source": [
    "tidy_subjection <- subjection %>% \n",
    "    unnest_tokens(word, text) %>%\n",
    "    anti_join(stop_words)"
   ]
  },
  {
   "cell_type": "markdown",
   "metadata": {},
   "source": [
    "The next thing we're going to do is smush together the tidy data frames for each author."
   ]
  },
  {
   "cell_type": "code",
   "execution_count": 38,
   "metadata": {},
   "outputs": [],
   "source": [
    "tidy_books <- bind_rows(mutate(tidy_subjection, author = 'Mills'), \n",
    "                        mutate(tidy_vindication, author = 'Wollstonecraft'))"
   ]
  },
  {
   "cell_type": "markdown",
   "metadata": {},
   "source": [
    "Next, we're going to go through a few different tidy data procedures to compare the two authors. We are first going to count each word but now grouped by author. We then generate a new column with `mutate` which will result in a proportion. We then must remove the column `n` from the analysis for the next few parts to work correctly using `select`. Next we move from a long format to a wide format using `spread`. Spread moves the proportions from a single column to two columns, one for each author. We lastly take the difference between the two proportions and sort them by descending order using `arrange`."
   ]
  },
  {
   "cell_type": "code",
   "execution_count": 82,
   "metadata": {},
   "outputs": [
    {
     "data": {
      "text/html": [
       "<table>\n",
       "<thead><tr><th scope=col>word</th><th scope=col>Mills</th><th scope=col>Wollstonecraft</th><th scope=col>diffprop</th></tr></thead>\n",
       "<tbody>\n",
       "\t<tr><td>women       </td><td>0.022352612 </td><td>1.333573e-02</td><td>0.009016882 </td></tr>\n",
       "\t<tr><td>law         </td><td>0.005797709 </td><td>4.794869e-04</td><td>0.005318222 </td></tr>\n",
       "\t<tr><td>power       </td><td>0.007893266 </td><td>2.876922e-03</td><td>0.005016345 </td></tr>\n",
       "\t<tr><td>human       </td><td>0.007264599 </td><td>3.086697e-03</td><td>0.004177902 </td></tr>\n",
       "\t<tr><td>social      </td><td>0.004470522 </td><td>3.895831e-04</td><td>0.004080939 </td></tr>\n",
       "\t<tr><td>influence   </td><td>0.004121263 </td><td>2.697114e-04</td><td>0.003851552 </td></tr>\n",
       "\t<tr><td>persons     </td><td>0.003772003 </td><td>6.892625e-04</td><td>0.003082741 </td></tr>\n",
       "\t<tr><td>society     </td><td>0.005797709 </td><td>2.757050e-03</td><td>0.003040659 </td></tr>\n",
       "\t<tr><td>individual  </td><td>0.003213188 </td><td>6.592946e-04</td><td>0.002553893 </td></tr>\n",
       "\t<tr><td>wife        </td><td>0.003352892 </td><td>1.018910e-03</td><td>0.002333982 </td></tr>\n",
       "\t<tr><td>legal       </td><td>0.002235261 </td><td>5.993587e-05</td><td>0.002175325 </td></tr>\n",
       "\t<tr><td>modern      </td><td>0.002235261 </td><td>1.198717e-04</td><td>0.002115390 </td></tr>\n",
       "\t<tr><td>life        </td><td>0.007194747 </td><td>5.094549e-03</td><td>0.002100198 </td></tr>\n",
       "\t<tr><td>differences </td><td>0.002025706 </td><td>0.000000e+00</td><td>0.002025706 </td></tr>\n",
       "\t<tr><td>feelings    </td><td>0.003143336 </td><td>1.138782e-03</td><td>0.002004555 </td></tr>\n",
       "\t<tr><td>marriage    </td><td>0.002933780 </td><td>9.589739e-04</td><td>0.001974806 </td></tr>\n",
       "\t<tr><td>feeling     </td><td>0.002514669 </td><td>5.693908e-04</td><td>0.001945278 </td></tr>\n",
       "\t<tr><td>experience  </td><td>0.002794077 </td><td>9.589739e-04</td><td>0.001835103 </td></tr>\n",
       "\t<tr><td>means       </td><td>0.002514669 </td><td>6.892625e-04</td><td>0.001825406 </td></tr>\n",
       "\t<tr><td>laws        </td><td>0.002235261 </td><td>4.495190e-04</td><td>0.001785742 </td></tr>\n",
       "\t<tr><td>people      </td><td>0.003702151 </td><td>1.917948e-03</td><td>0.001784204 </td></tr>\n",
       "\t<tr><td>mental      </td><td>0.002025706 </td><td>3.296473e-04</td><td>0.001696058 </td></tr>\n",
       "\t<tr><td>existing    </td><td>0.001676446 </td><td>0.000000e+00</td><td>0.001676446 </td></tr>\n",
       "\t<tr><td>freedom     </td><td>0.002095557 </td><td>4.195511e-04</td><td>0.001676006 </td></tr>\n",
       "\t<tr><td>government  </td><td>0.002025706 </td><td>3.596152e-04</td><td>0.001666090 </td></tr>\n",
       "\t<tr><td>institutions</td><td>0.001676446 </td><td>2.996793e-05</td><td>0.001646478 </td></tr>\n",
       "\t<tr><td>women's     </td><td>0.001676446 </td><td>2.996793e-05</td><td>0.001646478 </td></tr>\n",
       "\t<tr><td>family      </td><td>0.002724225 </td><td>1.078846e-03</td><td>0.001645379 </td></tr>\n",
       "\t<tr><td>faculties   </td><td>0.002584521 </td><td>9.589739e-04</td><td>0.001625547 </td></tr>\n",
       "\t<tr><td>fit         </td><td>0.001816150 </td><td>2.097755e-04</td><td>0.001606374 </td></tr>\n",
       "\t<tr><td>⋮</td><td>⋮</td><td>⋮</td><td>⋮</td></tr>\n",
       "\t<tr><td>taste        </td><td>4.191115e-04 </td><td>0.001678204  </td><td>-0.001259093 </td></tr>\n",
       "\t<tr><td>ignorance    </td><td>1.397038e-04 </td><td>0.001408493  </td><td>-0.001268789 </td></tr>\n",
       "\t<tr><td>behaviour    </td><td>0.000000e+00 </td><td>0.001318589  </td><td>-0.001318589 </td></tr>\n",
       "\t<tr><td>passion      </td><td>3.492596e-04 </td><td>0.001678204  </td><td>-0.001328945 </td></tr>\n",
       "\t<tr><td>acquire      </td><td>4.191115e-04 </td><td>0.001798076  </td><td>-0.001378965 </td></tr>\n",
       "\t<tr><td>god          </td><td>2.095557e-04 </td><td>0.001648236  </td><td>-0.001438681 </td></tr>\n",
       "\t<tr><td>passions     </td><td>6.985191e-05 </td><td>0.001528365  </td><td>-0.001458513 </td></tr>\n",
       "\t<tr><td>affections   </td><td>2.095557e-04 </td><td>0.001678204  </td><td>-0.001468649 </td></tr>\n",
       "\t<tr><td>attention    </td><td>6.985191e-05 </td><td>0.001558333  </td><td>-0.001488481 </td></tr>\n",
       "\t<tr><td>weakness     </td><td>0.000000e+00 </td><td>0.001708172  </td><td>-0.001708172 </td></tr>\n",
       "\t<tr><td>virtues      </td><td>5.588153e-04 </td><td>0.002337499  </td><td>-0.001778684 </td></tr>\n",
       "\t<tr><td>sensibility  </td><td>2.794077e-04 </td><td>0.002067787  </td><td>-0.001788380 </td></tr>\n",
       "\t<tr><td>modesty      </td><td>0.000000e+00 </td><td>0.001887980  </td><td>-0.001887980 </td></tr>\n",
       "\t<tr><td>body         </td><td>2.095557e-04 </td><td>0.002157691  </td><td>-0.001948136 </td></tr>\n",
       "\t<tr><td>beauty       </td><td>6.985191e-05 </td><td>0.002067787  </td><td>-0.001997936 </td></tr>\n",
       "\t<tr><td>whilst       </td><td>0.000000e+00 </td><td>0.002037820  </td><td>-0.002037820 </td></tr>\n",
       "\t<tr><td>sex          </td><td>1.886002e-03 </td><td>0.003985735  </td><td>-0.002099734 </td></tr>\n",
       "\t<tr><td>duties       </td><td>7.683711e-04 </td><td>0.002906890  </td><td>-0.002138519 </td></tr>\n",
       "\t<tr><td>female       </td><td>2.794077e-04 </td><td>0.002457371  </td><td>-0.002177963 </td></tr>\n",
       "\t<tr><td>render       </td><td>4.191115e-04 </td><td>0.002607210  </td><td>-0.002188099 </td></tr>\n",
       "\t<tr><td>children     </td><td>1.536742e-03 </td><td>0.003895831  </td><td>-0.002359089 </td></tr>\n",
       "\t<tr><td>till         </td><td>3.492596e-04 </td><td>0.002787018  </td><td>-0.002437758 </td></tr>\n",
       "\t<tr><td>affection    </td><td>4.889634e-04 </td><td>0.003236537  </td><td>-0.002747574 </td></tr>\n",
       "\t<tr><td>respect      </td><td>1.187483e-03 </td><td>0.003985735  </td><td>-0.002798253 </td></tr>\n",
       "\t<tr><td>understanding</td><td>1.397038e-04 </td><td>0.003326441  </td><td>-0.003186737 </td></tr>\n",
       "\t<tr><td>heart        </td><td>4.191115e-04 </td><td>0.003656088  </td><td>-0.003236977 </td></tr>\n",
       "\t<tr><td>love         </td><td>4.889634e-04 </td><td>0.005184453  </td><td>-0.004695489 </td></tr>\n",
       "\t<tr><td>virtue       </td><td>7.683711e-04 </td><td>0.005933651  </td><td>-0.005165280 </td></tr>\n",
       "\t<tr><td>mind         </td><td>1.746298e-03 </td><td>0.006952561  </td><td>-0.005206263 </td></tr>\n",
       "\t<tr><td>reason       </td><td>1.466890e-03 </td><td>0.007911535  </td><td>-0.006444644 </td></tr>\n",
       "</tbody>\n",
       "</table>\n"
      ],
      "text/latex": [
       "\\begin{tabular}{r|llll}\n",
       " word & Mills & Wollstonecraft & diffprop\\\\\n",
       "\\hline\n",
       "\t women        & 0.022352612  & 1.333573e-02 & 0.009016882 \\\\\n",
       "\t law          & 0.005797709  & 4.794869e-04 & 0.005318222 \\\\\n",
       "\t power        & 0.007893266  & 2.876922e-03 & 0.005016345 \\\\\n",
       "\t human        & 0.007264599  & 3.086697e-03 & 0.004177902 \\\\\n",
       "\t social       & 0.004470522  & 3.895831e-04 & 0.004080939 \\\\\n",
       "\t influence    & 0.004121263  & 2.697114e-04 & 0.003851552 \\\\\n",
       "\t persons      & 0.003772003  & 6.892625e-04 & 0.003082741 \\\\\n",
       "\t society      & 0.005797709  & 2.757050e-03 & 0.003040659 \\\\\n",
       "\t individual   & 0.003213188  & 6.592946e-04 & 0.002553893 \\\\\n",
       "\t wife         & 0.003352892  & 1.018910e-03 & 0.002333982 \\\\\n",
       "\t legal        & 0.002235261  & 5.993587e-05 & 0.002175325 \\\\\n",
       "\t modern       & 0.002235261  & 1.198717e-04 & 0.002115390 \\\\\n",
       "\t life         & 0.007194747  & 5.094549e-03 & 0.002100198 \\\\\n",
       "\t differences  & 0.002025706  & 0.000000e+00 & 0.002025706 \\\\\n",
       "\t feelings     & 0.003143336  & 1.138782e-03 & 0.002004555 \\\\\n",
       "\t marriage     & 0.002933780  & 9.589739e-04 & 0.001974806 \\\\\n",
       "\t feeling      & 0.002514669  & 5.693908e-04 & 0.001945278 \\\\\n",
       "\t experience   & 0.002794077  & 9.589739e-04 & 0.001835103 \\\\\n",
       "\t means        & 0.002514669  & 6.892625e-04 & 0.001825406 \\\\\n",
       "\t laws         & 0.002235261  & 4.495190e-04 & 0.001785742 \\\\\n",
       "\t people       & 0.003702151  & 1.917948e-03 & 0.001784204 \\\\\n",
       "\t mental       & 0.002025706  & 3.296473e-04 & 0.001696058 \\\\\n",
       "\t existing     & 0.001676446  & 0.000000e+00 & 0.001676446 \\\\\n",
       "\t freedom      & 0.002095557  & 4.195511e-04 & 0.001676006 \\\\\n",
       "\t government   & 0.002025706  & 3.596152e-04 & 0.001666090 \\\\\n",
       "\t institutions & 0.001676446  & 2.996793e-05 & 0.001646478 \\\\\n",
       "\t women's      & 0.001676446  & 2.996793e-05 & 0.001646478 \\\\\n",
       "\t family       & 0.002724225  & 1.078846e-03 & 0.001645379 \\\\\n",
       "\t faculties    & 0.002584521  & 9.589739e-04 & 0.001625547 \\\\\n",
       "\t fit          & 0.001816150  & 2.097755e-04 & 0.001606374 \\\\\n",
       "\t ⋮ & ⋮ & ⋮ & ⋮\\\\\n",
       "\t taste         & 4.191115e-04  & 0.001678204   & -0.001259093 \\\\\n",
       "\t ignorance     & 1.397038e-04  & 0.001408493   & -0.001268789 \\\\\n",
       "\t behaviour     & 0.000000e+00  & 0.001318589   & -0.001318589 \\\\\n",
       "\t passion       & 3.492596e-04  & 0.001678204   & -0.001328945 \\\\\n",
       "\t acquire       & 4.191115e-04  & 0.001798076   & -0.001378965 \\\\\n",
       "\t god           & 2.095557e-04  & 0.001648236   & -0.001438681 \\\\\n",
       "\t passions      & 6.985191e-05  & 0.001528365   & -0.001458513 \\\\\n",
       "\t affections    & 2.095557e-04  & 0.001678204   & -0.001468649 \\\\\n",
       "\t attention     & 6.985191e-05  & 0.001558333   & -0.001488481 \\\\\n",
       "\t weakness      & 0.000000e+00  & 0.001708172   & -0.001708172 \\\\\n",
       "\t virtues       & 5.588153e-04  & 0.002337499   & -0.001778684 \\\\\n",
       "\t sensibility   & 2.794077e-04  & 0.002067787   & -0.001788380 \\\\\n",
       "\t modesty       & 0.000000e+00  & 0.001887980   & -0.001887980 \\\\\n",
       "\t body          & 2.095557e-04  & 0.002157691   & -0.001948136 \\\\\n",
       "\t beauty        & 6.985191e-05  & 0.002067787   & -0.001997936 \\\\\n",
       "\t whilst        & 0.000000e+00  & 0.002037820   & -0.002037820 \\\\\n",
       "\t sex           & 1.886002e-03  & 0.003985735   & -0.002099734 \\\\\n",
       "\t duties        & 7.683711e-04  & 0.002906890   & -0.002138519 \\\\\n",
       "\t female        & 2.794077e-04  & 0.002457371   & -0.002177963 \\\\\n",
       "\t render        & 4.191115e-04  & 0.002607210   & -0.002188099 \\\\\n",
       "\t children      & 1.536742e-03  & 0.003895831   & -0.002359089 \\\\\n",
       "\t till          & 3.492596e-04  & 0.002787018   & -0.002437758 \\\\\n",
       "\t affection     & 4.889634e-04  & 0.003236537   & -0.002747574 \\\\\n",
       "\t respect       & 1.187483e-03  & 0.003985735   & -0.002798253 \\\\\n",
       "\t understanding & 1.397038e-04  & 0.003326441   & -0.003186737 \\\\\n",
       "\t heart         & 4.191115e-04  & 0.003656088   & -0.003236977 \\\\\n",
       "\t love          & 4.889634e-04  & 0.005184453   & -0.004695489 \\\\\n",
       "\t virtue        & 7.683711e-04  & 0.005933651   & -0.005165280 \\\\\n",
       "\t mind          & 1.746298e-03  & 0.006952561   & -0.005206263 \\\\\n",
       "\t reason        & 1.466890e-03  & 0.007911535   & -0.006444644 \\\\\n",
       "\\end{tabular}\n"
      ],
      "text/markdown": [
       "\n",
       "word | Mills | Wollstonecraft | diffprop | \n",
       "|---|---|---|---|---|---|---|---|---|---|---|---|---|---|---|---|---|---|---|---|---|---|---|---|---|---|---|---|---|---|---|---|---|---|---|---|---|---|---|---|---|---|---|---|---|---|---|---|---|---|---|---|---|---|---|---|---|---|---|---|---|\n",
       "| women        | 0.022352612  | 1.333573e-02 | 0.009016882  | \n",
       "| law          | 0.005797709  | 4.794869e-04 | 0.005318222  | \n",
       "| power        | 0.007893266  | 2.876922e-03 | 0.005016345  | \n",
       "| human        | 0.007264599  | 3.086697e-03 | 0.004177902  | \n",
       "| social       | 0.004470522  | 3.895831e-04 | 0.004080939  | \n",
       "| influence    | 0.004121263  | 2.697114e-04 | 0.003851552  | \n",
       "| persons      | 0.003772003  | 6.892625e-04 | 0.003082741  | \n",
       "| society      | 0.005797709  | 2.757050e-03 | 0.003040659  | \n",
       "| individual   | 0.003213188  | 6.592946e-04 | 0.002553893  | \n",
       "| wife         | 0.003352892  | 1.018910e-03 | 0.002333982  | \n",
       "| legal        | 0.002235261  | 5.993587e-05 | 0.002175325  | \n",
       "| modern       | 0.002235261  | 1.198717e-04 | 0.002115390  | \n",
       "| life         | 0.007194747  | 5.094549e-03 | 0.002100198  | \n",
       "| differences  | 0.002025706  | 0.000000e+00 | 0.002025706  | \n",
       "| feelings     | 0.003143336  | 1.138782e-03 | 0.002004555  | \n",
       "| marriage     | 0.002933780  | 9.589739e-04 | 0.001974806  | \n",
       "| feeling      | 0.002514669  | 5.693908e-04 | 0.001945278  | \n",
       "| experience   | 0.002794077  | 9.589739e-04 | 0.001835103  | \n",
       "| means        | 0.002514669  | 6.892625e-04 | 0.001825406  | \n",
       "| laws         | 0.002235261  | 4.495190e-04 | 0.001785742  | \n",
       "| people       | 0.003702151  | 1.917948e-03 | 0.001784204  | \n",
       "| mental       | 0.002025706  | 3.296473e-04 | 0.001696058  | \n",
       "| existing     | 0.001676446  | 0.000000e+00 | 0.001676446  | \n",
       "| freedom      | 0.002095557  | 4.195511e-04 | 0.001676006  | \n",
       "| government   | 0.002025706  | 3.596152e-04 | 0.001666090  | \n",
       "| institutions | 0.001676446  | 2.996793e-05 | 0.001646478  | \n",
       "| women's      | 0.001676446  | 2.996793e-05 | 0.001646478  | \n",
       "| family       | 0.002724225  | 1.078846e-03 | 0.001645379  | \n",
       "| faculties    | 0.002584521  | 9.589739e-04 | 0.001625547  | \n",
       "| fit          | 0.001816150  | 2.097755e-04 | 0.001606374  | \n",
       "| ⋮ | ⋮ | ⋮ | ⋮ | \n",
       "| taste         | 4.191115e-04  | 0.001678204   | -0.001259093  | \n",
       "| ignorance     | 1.397038e-04  | 0.001408493   | -0.001268789  | \n",
       "| behaviour     | 0.000000e+00  | 0.001318589   | -0.001318589  | \n",
       "| passion       | 3.492596e-04  | 0.001678204   | -0.001328945  | \n",
       "| acquire       | 4.191115e-04  | 0.001798076   | -0.001378965  | \n",
       "| god           | 2.095557e-04  | 0.001648236   | -0.001438681  | \n",
       "| passions      | 6.985191e-05  | 0.001528365   | -0.001458513  | \n",
       "| affections    | 2.095557e-04  | 0.001678204   | -0.001468649  | \n",
       "| attention     | 6.985191e-05  | 0.001558333   | -0.001488481  | \n",
       "| weakness      | 0.000000e+00  | 0.001708172   | -0.001708172  | \n",
       "| virtues       | 5.588153e-04  | 0.002337499   | -0.001778684  | \n",
       "| sensibility   | 2.794077e-04  | 0.002067787   | -0.001788380  | \n",
       "| modesty       | 0.000000e+00  | 0.001887980   | -0.001887980  | \n",
       "| body          | 2.095557e-04  | 0.002157691   | -0.001948136  | \n",
       "| beauty        | 6.985191e-05  | 0.002067787   | -0.001997936  | \n",
       "| whilst        | 0.000000e+00  | 0.002037820   | -0.002037820  | \n",
       "| sex           | 1.886002e-03  | 0.003985735   | -0.002099734  | \n",
       "| duties        | 7.683711e-04  | 0.002906890   | -0.002138519  | \n",
       "| female        | 2.794077e-04  | 0.002457371   | -0.002177963  | \n",
       "| render        | 4.191115e-04  | 0.002607210   | -0.002188099  | \n",
       "| children      | 1.536742e-03  | 0.003895831   | -0.002359089  | \n",
       "| till          | 3.492596e-04  | 0.002787018   | -0.002437758  | \n",
       "| affection     | 4.889634e-04  | 0.003236537   | -0.002747574  | \n",
       "| respect       | 1.187483e-03  | 0.003985735   | -0.002798253  | \n",
       "| understanding | 1.397038e-04  | 0.003326441   | -0.003186737  | \n",
       "| heart         | 4.191115e-04  | 0.003656088   | -0.003236977  | \n",
       "| love          | 4.889634e-04  | 0.005184453   | -0.004695489  | \n",
       "| virtue        | 7.683711e-04  | 0.005933651   | -0.005165280  | \n",
       "| mind          | 1.746298e-03  | 0.006952561   | -0.005206263  | \n",
       "| reason        | 1.466890e-03  | 0.007911535   | -0.006444644  | \n",
       "\n",
       "\n"
      ],
      "text/plain": [
       "     word          Mills        Wollstonecraft diffprop    \n",
       "1    women         0.022352612  1.333573e-02   0.009016882 \n",
       "2    law           0.005797709  4.794869e-04   0.005318222 \n",
       "3    power         0.007893266  2.876922e-03   0.005016345 \n",
       "4    human         0.007264599  3.086697e-03   0.004177902 \n",
       "5    social        0.004470522  3.895831e-04   0.004080939 \n",
       "6    influence     0.004121263  2.697114e-04   0.003851552 \n",
       "7    persons       0.003772003  6.892625e-04   0.003082741 \n",
       "8    society       0.005797709  2.757050e-03   0.003040659 \n",
       "9    individual    0.003213188  6.592946e-04   0.002553893 \n",
       "10   wife          0.003352892  1.018910e-03   0.002333982 \n",
       "11   legal         0.002235261  5.993587e-05   0.002175325 \n",
       "12   modern        0.002235261  1.198717e-04   0.002115390 \n",
       "13   life          0.007194747  5.094549e-03   0.002100198 \n",
       "14   differences   0.002025706  0.000000e+00   0.002025706 \n",
       "15   feelings      0.003143336  1.138782e-03   0.002004555 \n",
       "16   marriage      0.002933780  9.589739e-04   0.001974806 \n",
       "17   feeling       0.002514669  5.693908e-04   0.001945278 \n",
       "18   experience    0.002794077  9.589739e-04   0.001835103 \n",
       "19   means         0.002514669  6.892625e-04   0.001825406 \n",
       "20   laws          0.002235261  4.495190e-04   0.001785742 \n",
       "21   people        0.003702151  1.917948e-03   0.001784204 \n",
       "22   mental        0.002025706  3.296473e-04   0.001696058 \n",
       "23   existing      0.001676446  0.000000e+00   0.001676446 \n",
       "24   freedom       0.002095557  4.195511e-04   0.001676006 \n",
       "25   government    0.002025706  3.596152e-04   0.001666090 \n",
       "26   institutions  0.001676446  2.996793e-05   0.001646478 \n",
       "27   women's       0.001676446  2.996793e-05   0.001646478 \n",
       "28   family        0.002724225  1.078846e-03   0.001645379 \n",
       "29   faculties     0.002584521  9.589739e-04   0.001625547 \n",
       "30   fit           0.001816150  2.097755e-04   0.001606374 \n",
       "⋮    ⋮             ⋮            ⋮              ⋮           \n",
       "9119 taste         4.191115e-04 0.001678204    -0.001259093\n",
       "9120 ignorance     1.397038e-04 0.001408493    -0.001268789\n",
       "9121 behaviour     0.000000e+00 0.001318589    -0.001318589\n",
       "9122 passion       3.492596e-04 0.001678204    -0.001328945\n",
       "9123 acquire       4.191115e-04 0.001798076    -0.001378965\n",
       "9124 god           2.095557e-04 0.001648236    -0.001438681\n",
       "9125 passions      6.985191e-05 0.001528365    -0.001458513\n",
       "9126 affections    2.095557e-04 0.001678204    -0.001468649\n",
       "9127 attention     6.985191e-05 0.001558333    -0.001488481\n",
       "9128 weakness      0.000000e+00 0.001708172    -0.001708172\n",
       "9129 virtues       5.588153e-04 0.002337499    -0.001778684\n",
       "9130 sensibility   2.794077e-04 0.002067787    -0.001788380\n",
       "9131 modesty       0.000000e+00 0.001887980    -0.001887980\n",
       "9132 body          2.095557e-04 0.002157691    -0.001948136\n",
       "9133 beauty        6.985191e-05 0.002067787    -0.001997936\n",
       "9134 whilst        0.000000e+00 0.002037820    -0.002037820\n",
       "9135 sex           1.886002e-03 0.003985735    -0.002099734\n",
       "9136 duties        7.683711e-04 0.002906890    -0.002138519\n",
       "9137 female        2.794077e-04 0.002457371    -0.002177963\n",
       "9138 render        4.191115e-04 0.002607210    -0.002188099\n",
       "9139 children      1.536742e-03 0.003895831    -0.002359089\n",
       "9140 till          3.492596e-04 0.002787018    -0.002437758\n",
       "9141 affection     4.889634e-04 0.003236537    -0.002747574\n",
       "9142 respect       1.187483e-03 0.003985735    -0.002798253\n",
       "9143 understanding 1.397038e-04 0.003326441    -0.003186737\n",
       "9144 heart         4.191115e-04 0.003656088    -0.003236977\n",
       "9145 love          4.889634e-04 0.005184453    -0.004695489\n",
       "9146 virtue        7.683711e-04 0.005933651    -0.005165280\n",
       "9147 mind          1.746298e-03 0.006952561    -0.005206263\n",
       "9148 reason        1.466890e-03 0.007911535    -0.006444644"
      ]
     },
     "metadata": {},
     "output_type": "display_data"
    }
   ],
   "source": [
    "word_proportions <- tidy_books %>% \n",
    "    count(word, author) %>%\n",
    "    group_by(author) %>%\n",
    "    mutate(proportion = n / sum(n)) %>%\n",
    "    select(-n) %>%\n",
    "    spread(author, proportion, fill = 0) %>%\n",
    "    mutate(diffprop = Mills - Wollstonecraft) %>%\n",
    "    arrange(desc(diffprop))"
   ]
  },
  {
   "cell_type": "markdown",
   "metadata": {},
   "source": [
    "We can see the top (and bottom) 10 in difference of proportion with `head` and `tail`."
   ]
  },
  {
   "cell_type": "code",
   "execution_count": 89,
   "metadata": {},
   "outputs": [
    {
     "data": {
      "text/html": [
       "<table>\n",
       "<thead><tr><th scope=col>word</th><th scope=col>Mills</th><th scope=col>Wollstonecraft</th><th scope=col>diffprop</th></tr></thead>\n",
       "<tbody>\n",
       "\t<tr><td>women       </td><td>0.022352612 </td><td>0.0133357308</td><td>0.009016882 </td></tr>\n",
       "\t<tr><td>law         </td><td>0.005797709 </td><td>0.0004794869</td><td>0.005318222 </td></tr>\n",
       "\t<tr><td>power       </td><td>0.007893266 </td><td>0.0028769217</td><td>0.005016345 </td></tr>\n",
       "\t<tr><td>human       </td><td>0.007264599 </td><td>0.0030866972</td><td>0.004177902 </td></tr>\n",
       "\t<tr><td>social      </td><td>0.004470522 </td><td>0.0003895831</td><td>0.004080939 </td></tr>\n",
       "\t<tr><td>influence   </td><td>0.004121263 </td><td>0.0002697114</td><td>0.003851552 </td></tr>\n",
       "\t<tr><td>persons     </td><td>0.003772003 </td><td>0.0006892625</td><td>0.003082741 </td></tr>\n",
       "\t<tr><td>society     </td><td>0.005797709 </td><td>0.0027570500</td><td>0.003040659 </td></tr>\n",
       "\t<tr><td>individual  </td><td>0.003213188 </td><td>0.0006592946</td><td>0.002553893 </td></tr>\n",
       "\t<tr><td>wife        </td><td>0.003352892 </td><td>0.0010189098</td><td>0.002333982 </td></tr>\n",
       "</tbody>\n",
       "</table>\n"
      ],
      "text/latex": [
       "\\begin{tabular}{r|llll}\n",
       " word & Mills & Wollstonecraft & diffprop\\\\\n",
       "\\hline\n",
       "\t women        & 0.022352612  & 0.0133357308 & 0.009016882 \\\\\n",
       "\t law          & 0.005797709  & 0.0004794869 & 0.005318222 \\\\\n",
       "\t power        & 0.007893266  & 0.0028769217 & 0.005016345 \\\\\n",
       "\t human        & 0.007264599  & 0.0030866972 & 0.004177902 \\\\\n",
       "\t social       & 0.004470522  & 0.0003895831 & 0.004080939 \\\\\n",
       "\t influence    & 0.004121263  & 0.0002697114 & 0.003851552 \\\\\n",
       "\t persons      & 0.003772003  & 0.0006892625 & 0.003082741 \\\\\n",
       "\t society      & 0.005797709  & 0.0027570500 & 0.003040659 \\\\\n",
       "\t individual   & 0.003213188  & 0.0006592946 & 0.002553893 \\\\\n",
       "\t wife         & 0.003352892  & 0.0010189098 & 0.002333982 \\\\\n",
       "\\end{tabular}\n"
      ],
      "text/markdown": [
       "\n",
       "word | Mills | Wollstonecraft | diffprop | \n",
       "|---|---|---|---|---|---|---|---|---|---|\n",
       "| women        | 0.022352612  | 0.0133357308 | 0.009016882  | \n",
       "| law          | 0.005797709  | 0.0004794869 | 0.005318222  | \n",
       "| power        | 0.007893266  | 0.0028769217 | 0.005016345  | \n",
       "| human        | 0.007264599  | 0.0030866972 | 0.004177902  | \n",
       "| social       | 0.004470522  | 0.0003895831 | 0.004080939  | \n",
       "| influence    | 0.004121263  | 0.0002697114 | 0.003851552  | \n",
       "| persons      | 0.003772003  | 0.0006892625 | 0.003082741  | \n",
       "| society      | 0.005797709  | 0.0027570500 | 0.003040659  | \n",
       "| individual   | 0.003213188  | 0.0006592946 | 0.002553893  | \n",
       "| wife         | 0.003352892  | 0.0010189098 | 0.002333982  | \n",
       "\n",
       "\n"
      ],
      "text/plain": [
       "   word       Mills       Wollstonecraft diffprop   \n",
       "1  women      0.022352612 0.0133357308   0.009016882\n",
       "2  law        0.005797709 0.0004794869   0.005318222\n",
       "3  power      0.007893266 0.0028769217   0.005016345\n",
       "4  human      0.007264599 0.0030866972   0.004177902\n",
       "5  social     0.004470522 0.0003895831   0.004080939\n",
       "6  influence  0.004121263 0.0002697114   0.003851552\n",
       "7  persons    0.003772003 0.0006892625   0.003082741\n",
       "8  society    0.005797709 0.0027570500   0.003040659\n",
       "9  individual 0.003213188 0.0006592946   0.002553893\n",
       "10 wife       0.003352892 0.0010189098   0.002333982"
      ]
     },
     "metadata": {},
     "output_type": "display_data"
    }
   ],
   "source": [
    "word_proportions %>% head(10)"
   ]
  },
  {
   "cell_type": "code",
   "execution_count": 90,
   "metadata": {},
   "outputs": [
    {
     "data": {
      "text/html": [
       "<table>\n",
       "<thead><tr><th scope=col>word</th><th scope=col>Mills</th><th scope=col>Wollstonecraft</th><th scope=col>diffprop</th></tr></thead>\n",
       "<tbody>\n",
       "\t<tr><td>children     </td><td>0.0015367421 </td><td>0.003895831  </td><td>-0.002359089 </td></tr>\n",
       "\t<tr><td>till         </td><td>0.0003492596 </td><td>0.002787018  </td><td>-0.002437758 </td></tr>\n",
       "\t<tr><td>affection    </td><td>0.0004889634 </td><td>0.003236537  </td><td>-0.002747574 </td></tr>\n",
       "\t<tr><td>respect      </td><td>0.0011874825 </td><td>0.003985735  </td><td>-0.002798253 </td></tr>\n",
       "\t<tr><td>understanding</td><td>0.0001397038 </td><td>0.003326441  </td><td>-0.003186737 </td></tr>\n",
       "\t<tr><td>heart        </td><td>0.0004191115 </td><td>0.003656088  </td><td>-0.003236977 </td></tr>\n",
       "\t<tr><td>love         </td><td>0.0004889634 </td><td>0.005184453  </td><td>-0.004695489 </td></tr>\n",
       "\t<tr><td>virtue       </td><td>0.0007683711 </td><td>0.005933651  </td><td>-0.005165280 </td></tr>\n",
       "\t<tr><td>mind         </td><td>0.0017462978 </td><td>0.006952561  </td><td>-0.005206263 </td></tr>\n",
       "\t<tr><td>reason       </td><td>0.0014668902 </td><td>0.007911535  </td><td>-0.006444644 </td></tr>\n",
       "</tbody>\n",
       "</table>\n"
      ],
      "text/latex": [
       "\\begin{tabular}{r|llll}\n",
       " word & Mills & Wollstonecraft & diffprop\\\\\n",
       "\\hline\n",
       "\t children      & 0.0015367421  & 0.003895831   & -0.002359089 \\\\\n",
       "\t till          & 0.0003492596  & 0.002787018   & -0.002437758 \\\\\n",
       "\t affection     & 0.0004889634  & 0.003236537   & -0.002747574 \\\\\n",
       "\t respect       & 0.0011874825  & 0.003985735   & -0.002798253 \\\\\n",
       "\t understanding & 0.0001397038  & 0.003326441   & -0.003186737 \\\\\n",
       "\t heart         & 0.0004191115  & 0.003656088   & -0.003236977 \\\\\n",
       "\t love          & 0.0004889634  & 0.005184453   & -0.004695489 \\\\\n",
       "\t virtue        & 0.0007683711  & 0.005933651   & -0.005165280 \\\\\n",
       "\t mind          & 0.0017462978  & 0.006952561   & -0.005206263 \\\\\n",
       "\t reason        & 0.0014668902  & 0.007911535   & -0.006444644 \\\\\n",
       "\\end{tabular}\n"
      ],
      "text/markdown": [
       "\n",
       "word | Mills | Wollstonecraft | diffprop | \n",
       "|---|---|---|---|---|---|---|---|---|---|\n",
       "| children      | 0.0015367421  | 0.003895831   | -0.002359089  | \n",
       "| till          | 0.0003492596  | 0.002787018   | -0.002437758  | \n",
       "| affection     | 0.0004889634  | 0.003236537   | -0.002747574  | \n",
       "| respect       | 0.0011874825  | 0.003985735   | -0.002798253  | \n",
       "| understanding | 0.0001397038  | 0.003326441   | -0.003186737  | \n",
       "| heart         | 0.0004191115  | 0.003656088   | -0.003236977  | \n",
       "| love          | 0.0004889634  | 0.005184453   | -0.004695489  | \n",
       "| virtue        | 0.0007683711  | 0.005933651   | -0.005165280  | \n",
       "| mind          | 0.0017462978  | 0.006952561   | -0.005206263  | \n",
       "| reason        | 0.0014668902  | 0.007911535   | -0.006444644  | \n",
       "\n",
       "\n"
      ],
      "text/plain": [
       "   word          Mills        Wollstonecraft diffprop    \n",
       "1  children      0.0015367421 0.003895831    -0.002359089\n",
       "2  till          0.0003492596 0.002787018    -0.002437758\n",
       "3  affection     0.0004889634 0.003236537    -0.002747574\n",
       "4  respect       0.0011874825 0.003985735    -0.002798253\n",
       "5  understanding 0.0001397038 0.003326441    -0.003186737\n",
       "6  heart         0.0004191115 0.003656088    -0.003236977\n",
       "7  love          0.0004889634 0.005184453    -0.004695489\n",
       "8  virtue        0.0007683711 0.005933651    -0.005165280\n",
       "9  mind          0.0017462978 0.006952561    -0.005206263\n",
       "10 reason        0.0014668902 0.007911535    -0.006444644"
      ]
     },
     "metadata": {},
     "output_type": "display_data"
    }
   ],
   "source": [
    "word_proportions %>% tail(10)"
   ]
  },
  {
   "cell_type": "markdown",
   "metadata": {},
   "source": [
    "What we can begin to see here is that Mills uses the word woman more than Wollstonecraft, but also uses more legalistic language: *law, power, human*, and *social*. Meanwhile, Wollstonecraft uses much more gendered language: *virtue, love, heart*, and *understanding*, although *mind* and *reason* are important exceptions."
   ]
  },
  {
   "cell_type": "markdown",
   "metadata": {},
   "source": [
    "Now, let's visualize these results with `ggplot2`, which will allow us to more readily see the scale of difference. We're going to take the top 10 positive and top 10 negative words. `mutate` here reorders them such that the list is ordered by `diffprop`. We'll draw a bar graph with `geom_col` and flip the graph on it's side with `coord_flip`. We'll add a label for good measure."
   ]
  },
  {
   "cell_type": "code",
   "execution_count": 98,
   "metadata": {},
   "outputs": [
    {
     "data": {},
     "metadata": {},
     "output_type": "display_data"
    },
    {
     "data": {
      "image/png": "[encoded data removed]",
      "text/plain": [
       "plot without title"
      ]
     },
     "metadata": {},
     "output_type": "display_data"
    }
   ],
   "source": [
    "word_proportions %>%\n",
    "    group_by(diffprop < 0) %>%\n",
    "    top_n(10, abs(diffprop)) %>%\n",
    "    ungroup() %>%\n",
    "    mutate(word = reorder(word, diffprop)) %>%\n",
    "    ggplot(aes(word, diffprop, fill = diffprop < 0)) +\n",
    "    geom_col(show.legend = FALSE) + \n",
    "    coord_flip() + \n",
    "    ylab(\"Difference of proportions (Mills/Wollstonecraft)\")"
   ]
  },
  {
   "cell_type": "markdown",
   "metadata": {},
   "source": [
    "We see similar results but see that the scale of the use of *women* and *reason* is larger than other words which differentiate these two authors.\n",
    "\n",
    "Your turn again!"
   ]
  },
  {
   "cell_type": "markdown",
   "metadata": {},
   "source": [
    "#### Exercise 3\n",
    "\n",
    "1. Let's load *Up from Slavery* by Booker T. Washington using `gutenbergr`. The ID is 2376. Store it in a variable called `slavery`.\n",
    "2. Generate the tidy data frame without stop words. Store in `tidy_slavery`.\n",
    "3. Merge the two, denoted by author. Store in `tidy_compare`.\n",
    "4. Generate a difference of proportions. What differs the mos"
   ]
  },
  {
   "cell_type": "markdown",
   "metadata": {},
   "source": [
    "### Generating topic models with `stm`"
   ]
  },
  {
   "cell_type": "code",
   "execution_count": null,
   "metadata": {},
   "outputs": [],
   "source": [
    "library(stm)\n",
    "library(stringr)"
   ]
  },
  {
   "cell_type": "code",
   "execution_count": null,
   "metadata": {},
   "outputs": [],
   "source": [
    "sotu_tweets <- read_csv('https://github.com/alexhannna/unm-text-as-data/sotu-text.csv', \n",
    "                        col_names = c('tweet'))"
   ]
  },
  {
   "cell_type": "code",
   "execution_count": null,
   "metadata": {},
   "outputs": [],
   "source": [
    "sotu_tweets$id <- seq(1, nrow(sotu_tweets))"
   ]
  },
  {
   "cell_type": "code",
   "execution_count": null,
   "metadata": {},
   "outputs": [],
   "source": [
    "## remove links\n",
    "## unnest\n",
    "## remove stopwords\n",
    "tidy_sotu_tweets <- sotu_tweets %>% \n",
    "    mutate(tweet = str_replace(tweet, 'https://.+', '')) %>%\n",
    "    unnest_tokens(word, tweet) %>%\n",
    "    anti_join(stop_words) %>%\n",
    "    filter(word != \"sotu\")"
   ]
  },
  {
   "cell_type": "code",
   "execution_count": null,
   "metadata": {},
   "outputs": [],
   "source": [
    "sotu_dfm <- tidy_sotu_tweets %>% \n",
    "    count(id, word, sort = TRUE) %>%\n",
    "    cast_dfm(id, word, n)"
   ]
  },
  {
   "cell_type": "code",
   "execution_count": null,
   "metadata": {},
   "outputs": [],
   "source": [
    "topic_model <- stm(sotu_dfm, K = 10, \n",
    "                   verbose = FALSE, init.type = \"Spectral\")"
   ]
  },
  {
   "cell_type": "code",
   "execution_count": null,
   "metadata": {},
   "outputs": [],
   "source": [
    "summary(topic_model)"
   ]
  },
  {
   "cell_type": "code",
   "execution_count": null,
   "metadata": {},
   "outputs": [],
   "source": [
    "td_beta <- tidy(topic_model)"
   ]
  },
  {
   "cell_type": "code",
   "execution_count": null,
   "metadata": {},
   "outputs": [],
   "source": [
    "td_beta %>%\n",
    "    group_by(topic) %>%\n",
    "    top_n(10, beta) %>%\n",
    "    ungroup() %>%\n",
    "    mutate(topic = paste0(\"Topic \", topic), term) %>%\n",
    "    ggplot(aes(term, beta, fill = as.factor(topic))) +\n",
    "    geom_col(alpha = 0.8, show.legend = FALSE) +\n",
    "    facet_wrap(~ topic, scales = \"free\") +\n",
    "    coord_flip() +\n",
    "    labs(x = NULL, y = expression(beta),\n",
    "         title = \"Highest word probabilities for each topic\",\n",
    "         subtitle = \"Different words are associated with different topics\")"
   ]
  }
 ],
 "metadata": {
  "kernelspec": {
   "display_name": "R",
   "language": "R",
   "name": "ir"
  },
  "language_info": {
   "codemirror_mode": "r",
   "file_extension": ".r",
   "mimetype": "text/x-r-source",
   "name": "R",
   "pygments_lexer": "r",
   "version": "3.3.3"
  }
 },
 "nbformat": 4,
 "nbformat_minor": 2
}
